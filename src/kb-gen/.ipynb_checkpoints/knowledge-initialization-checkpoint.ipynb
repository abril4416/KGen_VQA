{
 "cells": [
  {
   "cell_type": "code",
   "execution_count": 1,
   "id": "c67c3b24",
   "metadata": {},
   "outputs": [],
   "source": [
    "import torch\n",
    "import requests\n",
    "from PIL import Image\n",
    "from matplotlib import pyplot as plt\n",
    "import numpy as np"
   ]
  },
  {
   "cell_type": "code",
   "execution_count": 2,
   "id": "116f3e61",
   "metadata": {},
   "outputs": [],
   "source": [
    "%matplotlib notebook\n",
    "%matplotlib inline\n",
    "\n",
    "OK_PATH='/Data_Storage/Rui_Data_Space/VQA/OK-VQA'\n",
    "A_OK_PATH='/Data_Storage/Rui_Data_Space/VQA/A-OKVQA'\n",
    "PATH='/Data_Storage/Rui_Data_Space/VQA'\n",
    "import pandas as pd\n",
    "from collections import defaultdict"
   ]
  },
  {
   "cell_type": "code",
   "execution_count": 3,
   "id": "8849097e",
   "metadata": {},
   "outputs": [],
   "source": [
    "import json\n",
    "import pickle as pkl\n",
    "\n",
    "def load_pkl(path):\n",
    "    data=pkl.load(open(path,'rb'))\n",
    "    return data\n",
    "\n",
    "def load_json(path):\n",
    "    data=json.load(open(path,'r'))\n",
    "    return data"
   ]
  },
  {
   "cell_type": "code",
   "execution_count": 4,
   "id": "7c70a396",
   "metadata": {},
   "outputs": [],
   "source": [
    "import os\n",
    "import random"
   ]
  },
  {
   "cell_type": "code",
   "execution_count": 5,
   "id": "997fd53b",
   "metadata": {},
   "outputs": [],
   "source": [
    "from sklearn.cluster import KMeans"
   ]
  },
  {
   "cell_type": "code",
   "execution_count": 6,
   "id": "2fa7e674",
   "metadata": {},
   "outputs": [
    {
     "name": "stderr",
     "output_type": "stream",
     "text": [
      "Some weights of the model checkpoint at bert-base-uncased were not used when initializing BertModel: ['cls.predictions.decoder.weight', 'cls.predictions.transform.LayerNorm.bias', 'cls.predictions.transform.LayerNorm.weight', 'cls.predictions.bias', 'cls.predictions.transform.dense.bias', 'cls.predictions.transform.dense.weight', 'cls.seq_relationship.weight', 'cls.seq_relationship.bias']\n",
      "- This IS expected if you are initializing BertModel from the checkpoint of a model trained on another task or with another architecture (e.g. initializing a BertForSequenceClassification model from a BertForPreTraining model).\n",
      "- This IS NOT expected if you are initializing BertModel from the checkpoint of a model that you expect to be exactly identical (initializing a BertForSequenceClassification model from a BertForSequenceClassification model).\n"
     ]
    }
   ],
   "source": [
    "from transformers import BertModel, AutoTokenizer\n",
    "model_name='bert-base-uncased'\n",
    "bert=BertModel.from_pretrained(model_name)\n",
    "tokenizer=AutoTokenizer.from_pretrained(model_name)"
   ]
  },
  {
   "cell_type": "code",
   "execution_count": 23,
   "id": "600726b5",
   "metadata": {},
   "outputs": [],
   "source": [
    "import openai\n",
    "#engine_name='code-davinci-002'\n",
    "engine_name='text-davinci-003'\n",
    "temperature=0.5\n",
    "max_tokens=128\n",
    "top_p=1\n",
    "frequency_penalty=0.0\n",
    "presence_penalty=0.0\n",
    "num_sequence=1\n",
    "openai.api_key =open('OK_VQA/openai_key.txt','r').readlines()[0].strip()"
   ]
  },
  {
   "cell_type": "code",
   "execution_count": 5,
   "id": "d7997bed",
   "metadata": {},
   "outputs": [
    {
     "name": "stdout",
     "output_type": "stream",
     "text": [
      "17056 1145 6702\n"
     ]
    }
   ],
   "source": [
    "train_aokvqa=load_json(os.path.join(A_OK_PATH,'aokvqa_v1p0_train.json'))\n",
    "val_aokvqa=load_json(os.path.join(A_OK_PATH,'aokvqa_v1p0_val.json'))\n",
    "test_aokvqa=load_json(os.path.join(A_OK_PATH,'aokvqa_v1p0_test.json'))\n",
    "print(len(train_aokvqa),len(val_aokvqa),len(test_aokvqa))"
   ]
  },
  {
   "cell_type": "code",
   "execution_count": 6,
   "id": "072631b6",
   "metadata": {},
   "outputs": [
    {
     "name": "stdout",
     "output_type": "stream",
     "text": [
      "5046\n"
     ]
    }
   ],
   "source": [
    "vqa_all=load_json(os.path.join(OK_PATH,'OpenEnded_mscoco_val2014_questions.json'))['questions']\n",
    "print (len(vqa_all))"
   ]
  },
  {
   "cell_type": "code",
   "execution_count": null,
   "id": "f57a9a53",
   "metadata": {},
   "outputs": [],
   "source": [
    "prompt_head=open('OK_VQA/demonstrations.txt','r').readlines()\n",
    "head=''.join(prompt_head)"
   ]
  },
  {
   "cell_type": "code",
   "execution_count": 10,
   "id": "0931f6f8",
   "metadata": {},
   "outputs": [],
   "source": [
    "import time"
   ]
  },
  {
   "cell_type": "code",
   "execution_count": 23,
   "id": "5341d484",
   "metadata": {},
   "outputs": [
    {
     "name": "stdout",
     "output_type": "stream",
     "text": [
      "{'split': 'val', 'image_id': 461751, 'question_id': '22jbM6gDxdaMaunuzgrsBB', 'question': \"What is in the motorcyclist's mouth?\", 'choices': ['toothpick', 'food', 'popsicle stick', 'cigarette'], 'correct_choice_idx': 3, 'direct_answers': ['cigarette', 'cigarette', 'cigarette', 'cigarette', 'cigarette', 'cigarette', 'cigarette', 'cigarette', 'cigarette', 'cigarette'], 'difficult_direct_answer': False, 'rationales': [\"He's smoking while riding.\", 'The motorcyclist has a lit cigarette in his mouth while he rides on the street.', 'The man is smoking.']}\n"
     ]
    }
   ],
   "source": [
    "print (val_aokvqa[0])"
   ]
  },
  {
   "cell_type": "code",
   "execution_count": 8,
   "id": "24882488",
   "metadata": {},
   "outputs": [
    {
     "name": "stdout",
     "output_type": "stream",
     "text": [
      "1145\n"
     ]
    }
   ],
   "source": [
    "captions=load_pkl('EACL-24-results/aokvqa_val_captions_100.pkl')\n",
    "print (len(captions))"
   ]
  },
  {
   "cell_type": "code",
   "execution_count": 18,
   "id": "6745d882",
   "metadata": {},
   "outputs": [
    {
     "name": "stdout",
     "output_type": "stream",
     "text": [
      "1145\n"
     ]
    }
   ],
   "source": [
    "kb_info=load_pkl('EACL-24-results/aokvqa_val_kb.pkl')\n",
    "print(len(kb_info))"
   ]
  },
  {
   "cell_type": "code",
   "execution_count": 21,
   "id": "839f91e0",
   "metadata": {},
   "outputs": [],
   "source": [
    "import time"
   ]
  },
  {
   "cell_type": "code",
   "execution_count": null,
   "id": "e8238d32",
   "metadata": {},
   "outputs": [],
   "source": [
    "NUM_VIS=10\n",
    "NUM_CAP=5\n",
    "\n",
    "vis=0\n",
    "total={}\n",
    "invalid=[]\n",
    "for k,row in enumerate(val_aokvqa):\n",
    "    if k%100==0:\n",
    "        print ('Already finished:',k,k*100.0/len(val_aokvqa))\n",
    "    ques=row['question']\n",
    "    ques_id=str(row['question_id'])\n",
    "    \n",
    "    cap=captions[ques_id]\n",
    "    \n",
    "    context=' . '.join(cap[:NUM_CAP])\n",
    "    texts=[]\n",
    "    texts.append('Context:'+context)\n",
    "    texts.append('Question:'+ques)\n",
    "    texts.append('Knowledge:')\n",
    "    texts='\\n'.join(texts)\n",
    "    prompt=head+texts\n",
    "    \n",
    "    try:\n",
    "        response = openai.Completion.create(engine=engine_name,\n",
    "                                            prompt=prompt,\n",
    "                                            temperature=temperature,\n",
    "                                            max_tokens=max_tokens,\n",
    "                                            top_p=top_p,\n",
    "                                            frequency_penalty=frequency_penalty,\n",
    "                                            presence_penalty=presence_penalty,\n",
    "                                            stop=[\"\\n\"])\n",
    "        knowledge=response[\"choices\"][0][\"text\"].strip()\n",
    "        total[ques_id]=knowledge\n",
    "        time.sleep(0.5)\n",
    "        vis+=1\n",
    "    except:\n",
    "        invalid.append(ques_id)\n",
    "        vis+=1\n",
    "        print ('Invalid id:',ques_id)\n",
    "        continue\n"
   ]
  },
  {
   "cell_type": "code",
   "execution_count": 17,
   "id": "902ce8fc",
   "metadata": {},
   "outputs": [],
   "source": [
    "pkl.dump(total,open('EACL-24-results/aokvqa_val_kb.pkl','wb'))"
   ]
  },
  {
   "cell_type": "code",
   "execution_count": 12,
   "id": "979c7340",
   "metadata": {},
   "outputs": [
    {
     "name": "stdout",
     "output_type": "stream",
     "text": [
      "1128\n"
     ]
    }
   ],
   "source": [
    "total=load_pkl('EACL-24-results/aokvqa_val_kb.pkl')\n",
    "print(len(total))"
   ]
  },
  {
   "cell_type": "code",
   "execution_count": 15,
   "id": "51f0ab41",
   "metadata": {},
   "outputs": [
    {
     "name": "stdout",
     "output_type": "stream",
     "text": [
      "Already finished: 0 0.0\n",
      "Already finished: 100 8.733624454148472\n",
      "Already finished: 200 17.467248908296945\n",
      "Already finished: 300 26.200873362445414\n",
      "Already finished: 400 34.93449781659389\n",
      "Already finished: 500 43.66812227074236\n",
      "Already finished: 600 52.40174672489083\n",
      "Already finished: 700 61.1353711790393\n",
      "Already finished: 800 69.86899563318778\n",
      "Already finished: 900 78.60262008733625\n",
      "Already finished: 1000 87.33624454148472\n",
      "Already finished: 1100 96.06986899563319\n"
     ]
    }
   ],
   "source": [
    "NUM_VIS=10\n",
    "NUM_CAP=5\n",
    "\n",
    "vis=0\n",
    "invalid=[]\n",
    "for k,row in enumerate(val_aokvqa):\n",
    "    if k%100==0:\n",
    "        print ('Already finished:',k,k*100.0/len(val_aokvqa))\n",
    "    ques=row['question']\n",
    "    ques_id=str(row['question_id'])\n",
    "    if ques_id in total:\n",
    "        continue\n",
    "    cap=captions[ques_id]\n",
    "    \n",
    "    context=' . '.join(cap[:NUM_CAP])\n",
    "    texts=[]\n",
    "    texts.append('Context:'+context)\n",
    "    texts.append('Question:'+ques)\n",
    "    texts.append('Knowledge:')\n",
    "    texts='\\n'.join(texts)\n",
    "    prompt=head+texts\n",
    "    \n",
    "    try:\n",
    "        response = openai.Completion.create(engine=engine_name,\n",
    "                                            prompt=prompt,\n",
    "                                            temperature=temperature,\n",
    "                                            max_tokens=max_tokens,\n",
    "                                            top_p=top_p,\n",
    "                                            frequency_penalty=frequency_penalty,\n",
    "                                            presence_penalty=presence_penalty,\n",
    "                                            stop=[\"\\n\"])\n",
    "        knowledge=response[\"choices\"][0][\"text\"].strip()\n",
    "        total[ques_id]=knowledge\n",
    "        time.sleep(0.5)\n",
    "        vis+=1\n",
    "    except:\n",
    "        invalid.append(ques_id)\n",
    "        vis+=1\n",
    "        print ('Invalid id:',ques_id)\n",
    "        continue\n"
   ]
  },
  {
   "cell_type": "code",
   "execution_count": null,
   "id": "1925941c",
   "metadata": {},
   "outputs": [],
   "source": []
  },
  {
   "cell_type": "code",
   "execution_count": null,
   "id": "48702e0e",
   "metadata": {},
   "outputs": [],
   "source": []
  },
  {
   "cell_type": "code",
   "execution_count": 16,
   "id": "aeb2b7f8",
   "metadata": {},
   "outputs": [
    {
     "name": "stdout",
     "output_type": "stream",
     "text": [
      "1145\n"
     ]
    }
   ],
   "source": [
    "print (len(total))"
   ]
  },
  {
   "cell_type": "code",
   "execution_count": null,
   "id": "f5eefcff",
   "metadata": {},
   "outputs": [],
   "source": []
  },
  {
   "cell_type": "code",
   "execution_count": 13,
   "id": "b604f628",
   "metadata": {},
   "outputs": [],
   "source": [
    "pkl.dump(total,open('OK_VQA/aokvqa_demo_kb.pkl','wb'))"
   ]
  }
 ],
 "metadata": {
  "kernelspec": {
   "display_name": "Python 3 (ipykernel)",
   "language": "python",
   "name": "python3"
  },
  "language_info": {
   "codemirror_mode": {
    "name": "ipython",
    "version": 3
   },
   "file_extension": ".py",
   "mimetype": "text/x-python",
   "name": "python",
   "nbconvert_exporter": "python",
   "pygments_lexer": "ipython3",
   "version": "3.8.13"
  }
 },
 "nbformat": 4,
 "nbformat_minor": 5
}
